{
  "cells": [
    {
      "cell_type": "markdown",
      "metadata": {
        "id": "view-in-github",
        "colab_type": "text"
      },
      "source": [
        "<a href=\"https://colab.research.google.com/github/pk2971/ADS-project/blob/main/Web_scraper.ipynb\" target=\"_parent\"><img src=\"https://colab.research.google.com/assets/colab-badge.svg\" alt=\"Open In Colab\"/></a>"
      ]
    },
    {
      "cell_type": "code",
      "execution_count": null,
      "metadata": {
        "id": "EKK_UwOUHZyC"
      },
      "outputs": [],
      "source": [
        "import requests\n",
        "from bs4 import BeautifulSoup"
      ]
    },
    {
      "cell_type": "code",
      "execution_count": null,
      "metadata": {
        "id": "-l4h9FIsHm8z"
      },
      "outputs": [],
      "source": [
        "'''\n",
        "This function extracts URLs from all the links in a list and stroe them in a nested list\n",
        "'''\n",
        "def extractHREF(url):\n",
        "  r=requests.get(url)\n",
        "  soup=BeautifulSoup(r.text,'html.parser')\n",
        "  l=[]\n",
        "  l1=[]\n",
        "\n",
        "  for link in soup.find_all('a'):\n",
        "    l.append(link.get('href'))\n",
        "  return l"
      ]
    },
    {
      "cell_type": "code",
      "execution_count": null,
      "metadata": {
        "id": "iW9YtR6oHnDA"
      },
      "outputs": [],
      "source": [
        "'''\n",
        "This function takes a list and appends adress to each string in list.\n",
        "'''\n",
        "def AppendAdress(l):\n",
        "  newL=[]\n",
        "  for link in l:\n",
        "    #print(link)\n",
        "    newL.append('https://api.parliament.uk//historic-hansard/sittings/'+link)\n",
        "  return newL"
      ]
    },
    {
      "cell_type": "code",
      "execution_count": null,
      "metadata": {
        "id": "cxpsvbNBHnJ2"
      },
      "outputs": [],
      "source": [
        "'''\n",
        "This function takes a list and appends adress to each string in list for specific years.\n",
        "'''\n",
        "def AppendYearsAdress(l):\n",
        "  newL=[]\n",
        "  for link in l:\n",
        "    #print(link)\n",
        "    newL.append('https://api.parliament.uk//historic-hansard/sittings/'+link)\n",
        "  return newL\n",
        "   \n",
        "\n"
      ]
    },
    {
      "cell_type": "code",
      "execution_count": null,
      "metadata": {
        "id": "YM0i3Q2ZHnS3"
      },
      "outputs": [],
      "source": [
        "'''\n",
        "This function takes a list with a decade and returns lists of years in every single decade\n",
        "'''\n",
        "def extractDecade(l):\n",
        "  newL=[]\n",
        "  for link in l:\n",
        "    newL.append(extractHREF(link))\n",
        "  return newL"
      ]
    },
    {
      "cell_type": "code",
      "execution_count": null,
      "metadata": {
        "id": "p9LFmqLAHnVt"
      },
      "outputs": [],
      "source": [
        "url='https://api.parliament.uk/historic-hansard/index.html'\n"
      ]
    },
    {
      "cell_type": "code",
      "execution_count": null,
      "metadata": {
        "id": "--8kU0QbHnbN"
      },
      "outputs": [],
      "source": [
        "'''\n",
        "This function takes a list of all years in a decade and returns nested list with all the months in an year\n",
        "'''\n",
        "def extractMonth(decade):\n",
        "  newL=[]\n",
        "  for link in decade:\n",
        "    newL.append(extractHREF(link))\n",
        "    \n",
        "  return newL"
      ]
    },
    {
      "cell_type": "code",
      "execution_count": null,
      "metadata": {
        "id": "Ow5axioTunOV"
      },
      "outputs": [],
      "source": [
        "extractHREF('https://api.parliament.uk//historic-hansard/sittings/1802')"
      ]
    },
    {
      "cell_type": "code",
      "execution_count": null,
      "metadata": {
        "id": "ctlpQ0NdI1YD"
      },
      "outputs": [],
      "source": [
        "def ExtractMonthsForYears(decade):\n",
        "  Months=extractMonth(decade)\n",
        "  #print(Months)\n",
        "  li=[]\n",
        "  for l in Months:\n",
        "    li.append(l[5:17])\n",
        "  return li"
      ]
    },
    {
      "cell_type": "code",
      "execution_count": null,
      "metadata": {
        "id": "0HqIlOr8Hnlu"
      },
      "outputs": [],
      "source": [
        "#Dates=[]\n",
        "def datesInMonth(l):\n",
        "  for i in range(len(l)):\n",
        "    Dates.append(extractHREF('https://api.parliament.uk/'+l[i])[6:])\n",
        "\n"
      ]
    },
    {
      "cell_type": "code",
      "execution_count": null,
      "metadata": {
        "id": "uZbJqANkHny6"
      },
      "outputs": [],
      "source": [
        "'''\n",
        "This function extracts every single link in every day and stores it in a nested list.\n",
        "'''\n",
        "def extractSittingsLinks(DatesFinal): \n",
        "  import random\n",
        "  import time \n",
        "  #MegaList=[]\n",
        "  n=0\n",
        "  for l in DatesFinal:\n",
        "    for s in l:\n",
        "      if(n<10):\n",
        "        print(\"Extracting data from:\"+s)\n",
        "        MegaList.append(extractHREF('https://api.parliament.uk/'+s)[:-3])\n",
        "        n+=1\n",
        "      else:\n",
        "        n=random.randrange(1,5)\n",
        "        print('Sleeping for',n,\" seconds\")\n",
        "        time.sleep(n)\n",
        "        n=0\n"
      ]
    },
    {
      "cell_type": "code",
      "execution_count": null,
      "metadata": {
        "id": "fqrLt_l7Hn2i"
      },
      "outputs": [],
      "source": [
        "'''\n",
        "This cell extracts only the needed links in the above nested list and put them into flat list.\n",
        "'''\n",
        "a=[]\n",
        "def cleanLinksList(MegaList):\n",
        "  #a=[]\n",
        "  for l in MegaList:\n",
        "    for s in l:\n",
        "      if '/historic-hansard/commons/' in s:\n",
        "        a.append(s)\n",
        "  \n"
      ]
    },
    {
      "cell_type": "code",
      "execution_count": null,
      "metadata": {
        "id": "wx7BiWKdHn6L"
      },
      "outputs": [],
      "source": [
        "def writeLinksToCSV(a):\n",
        "  import csv\n",
        "  #filename='links'+str(n)+s\n",
        "  with open('links.csv','w') as f:\n",
        "    write = csv.writer(f)\n",
        "    write.writerow(a)"
      ]
    },
    {
      "cell_type": "markdown",
      "metadata": {
        "id": "Jfch7xgiJ2bU"
      },
      "source": [
        "We first extract the links in the base website, and use the needed the links.\n",
        "\n",
        "We first start with the links in the year 1800s and then move on to the other years.\n",
        "\n",
        "In the below we first start out with the website and work from there."
      ]
    },
    {
      "cell_type": "code",
      "execution_count": null,
      "metadata": {
        "id": "NLmkoAtbHn8x"
      },
      "outputs": [],
      "source": [
        "baselinks=[]\n",
        "l1800s=[]\n",
        "baselinks=extractHREF(url)\n",
        "for link in baselinks:\n",
        "    l1800s.append('https://api.parliament.uk/'+link)"
      ]
    },
    {
      "cell_type": "markdown",
      "metadata": {
        "id": "aMQu7nEvKtMB"
      },
      "source": [
        "We use the link in l1800s[11] to extract the deacades in 20th century."
      ]
    },
    {
      "cell_type": "code",
      "execution_count": null,
      "metadata": {
        "colab": {
          "base_uri": "https://localhost:8080/",
          "height": 58
        },
        "id": "38zy8tE1Hn_6",
        "outputId": "6b450adc-6b0c-4d91-d19b-ac0ba5a8de79"
      },
      "outputs": [
        {
          "output_type": "execute_result",
          "data": {
            "text/plain": [
              "'https://api.parliament.uk//historic-hansard/sittings/C20'"
            ],
            "application/vnd.google.colaboratory.intrinsic+json": {
              "type": "string"
            }
          },
          "metadata": {},
          "execution_count": 15
        }
      ],
      "source": [
        "l1800s[11]"
      ]
    },
    {
      "cell_type": "markdown",
      "metadata": {
        "id": "XXRn7VnpK6XQ"
      },
      "source": [
        "Rest of the links in list l1800 we will use to extract the data from the 19th century."
      ]
    },
    {
      "cell_type": "code",
      "execution_count": null,
      "metadata": {
        "colab": {
          "base_uri": "https://localhost:8080/"
        },
        "id": "UdR6ekn2HoDB",
        "outputId": "4365dd55-6c10-44f2-96a7-91137b518cfe"
      },
      "outputs": [
        {
          "output_type": "execute_result",
          "data": {
            "text/plain": [
              "['https://api.parliament.uk//historic-hansard/sittings/1800s',\n",
              " 'https://api.parliament.uk//historic-hansard/sittings/1810s',\n",
              " 'https://api.parliament.uk//historic-hansard/sittings/1820s',\n",
              " 'https://api.parliament.uk//historic-hansard/sittings/1830s',\n",
              " 'https://api.parliament.uk//historic-hansard/sittings/1840s',\n",
              " 'https://api.parliament.uk//historic-hansard/sittings/1850s',\n",
              " 'https://api.parliament.uk//historic-hansard/sittings/1860s',\n",
              " 'https://api.parliament.uk//historic-hansard/sittings/1870s',\n",
              " 'https://api.parliament.uk//historic-hansard/sittings/1880s',\n",
              " 'https://api.parliament.uk//historic-hansard/sittings/1890s']"
            ]
          },
          "metadata": {},
          "execution_count": 16
        }
      ],
      "source": [
        "l1800s[1:11]"
      ]
    },
    {
      "cell_type": "markdown",
      "metadata": {
        "id": "tEpY2bZ3Ms4_"
      },
      "source": [
        "Extract all the years in every single decade."
      ]
    },
    {
      "cell_type": "code",
      "execution_count": null,
      "metadata": {
        "colab": {
          "base_uri": "https://localhost:8080/"
        },
        "id": "haSHzlP7HoGs",
        "outputId": "c095e4a1-eb3a-458c-e01e-18f6d885fb50"
      },
      "outputs": [
        {
          "output_type": "stream",
          "name": "stdout",
          "text": [
            "1800\n",
            "1810\n",
            "1820\n",
            "1830\n",
            "1840\n",
            "1850\n",
            "1860\n",
            "1870\n",
            "1880\n",
            "1890\n"
          ]
        }
      ],
      "source": [
        "linkIn1800s=[]\n",
        "n=1790\n",
        "linkIn1800s=extractDecade(l1800s[1:11])\n",
        "#print(linkIn1900s)\n",
        "for list1 in linkIn1800s[0:10]:\n",
        "  list1=AppendYearsAdress(list1)\n",
        "  n=n+10\n",
        "  locals()['decade'+str(n)+'s']=list1\n",
        "  print(n)"
      ]
    },
    {
      "cell_type": "markdown",
      "metadata": {
        "id": "W_bb05sfNozn"
      },
      "source": [
        "Cleaning up the lists in DecadeList18 to only keep the usable links."
      ]
    },
    {
      "cell_type": "code",
      "execution_count": null,
      "metadata": {
        "id": "dNMNo-0kHoMZ"
      },
      "outputs": [],
      "source": [
        "index=0\n",
        "link1800s=[]\n",
        "for s in linkIn1800s:\n",
        "  #print(linkIn1800s.index(s))\n",
        "  #print(s)\n",
        "  if linkIn1800s.index(s)==0:\n",
        "    index=2\n",
        "    link1800s.append(s[3:11])\n",
        "\n",
        "  else:\n",
        "    index=3\n",
        "    link1800s.append(s[4:14])"
      ]
    },
    {
      "cell_type": "code",
      "execution_count": null,
      "metadata": {
        "colab": {
          "base_uri": "https://localhost:8080/"
        },
        "id": "4209I1dXHoPy",
        "outputId": "cfcd9fc1-d1fb-4f30-ebdd-27fd182cd6e1"
      },
      "outputs": [
        {
          "output_type": "stream",
          "name": "stdout",
          "text": [
            "['1802', '1803', '1804', '1805', '1806', '1807', '1808', '1809']\n",
            "['1810', '1811', '1812', '1813', '1814', '1815', '1817', '1818', '1819']\n",
            "['1820', '1821', '1822', '1823', '1824', '1825', '1826', '1827', '1828']\n",
            "['1830', '1831', '1832', '1833', '1834', '1835', '1836', '1837', '1838', '1839']\n",
            "['1840', '1841', '1842', '1843', '1844', '1845', '1846', '1847', '1848', '1849']\n",
            "['1850', '1851', '1852', '1853', '1854', '1855', '1856', '1857', '1858', '1859']\n",
            "['1860', '1861', '1862', '1863', '1864', '1865', '1866', '1867', '1868', '1869']\n",
            "['1870', '1871', '1872', '1873', '1874', '1875', '1876', '1877', '1878', '1879']\n",
            "['1880', '1881', '1882', '1883', '1884', '1885', '1886', '1887', '1888', '1889']\n",
            "['1890', '1891', '1892', '1893', '1894', '1895', '1896', '1897', '1898', '1899']\n"
          ]
        }
      ],
      "source": [
        "for s in link1800s:\n",
        "  for l in s:\n",
        "    if len(l)>4:\n",
        "      #print(l)\n",
        "      s.remove(l)\n",
        "  print(s)"
      ]
    },
    {
      "cell_type": "code",
      "execution_count": null,
      "metadata": {
        "id": "2CAeQM26HoSq"
      },
      "outputs": [],
      "source": [
        "DecadeList18=[]\n",
        "for l in link1800s:\n",
        "  DecadeList18.append(AppendYearsAdress(l))\n",
        "\n",
        "#For tracking"
      ]
    },
    {
      "cell_type": "markdown",
      "metadata": {
        "id": "vQKaxB7pX-i_"
      },
      "source": [
        "Extracting all the months in every year in the 19th century."
      ]
    },
    {
      "cell_type": "code",
      "execution_count": null,
      "metadata": {
        "id": "AUJRXPrJ1G-_"
      },
      "outputs": [],
      "source": [
        "n=1\n",
        "for decade in DecadeList18:\n",
        "    months=extractMonth(decade)\n",
        "    for l in months:\n",
        "      locals()['l'+str(n)]=l\n",
        "      n+=1\n",
        "      print(n)\n",
        "  \n"
      ]
    },
    {
      "cell_type": "code",
      "execution_count": null,
      "metadata": {
        "id": "DYQ4J7obIkAC"
      },
      "outputs": [],
      "source": [
        "current=35\n",
        "for n in range(1,97):\n",
        "  if(n==1 or n==2):\n",
        "    pointer=4\n",
        "  else:\n",
        "    pointer=5\n",
        "  #print(locals()['l'+str(n)])\n",
        "  tempList=locals()['l'+str(n)][pointer:]\n",
        "  for l in tempList:\n",
        "    if len(l)<current:\n",
        "      print(l)\n",
        "      x=(tempList.index(l))-len(tempList)\n",
        "      print(x)\n",
        "      #print(tempList[:x])\n",
        "    \n",
        "      locals()['l'+str(n)]=tempList[:x]\n",
        "      print(locals()['l'+str(n)])\n",
        "      break\n",
        "\n",
        "  #print(tempList)\n",
        "  #print(n)"
      ]
    },
    {
      "cell_type": "code",
      "execution_count": null,
      "metadata": {
        "colab": {
          "base_uri": "https://localhost:8080/"
        },
        "id": "NPUjks06GaRI",
        "outputId": "41969e7d-81d5-4892-c2ec-d35e7e4a6dea"
      },
      "outputs": [
        {
          "output_type": "execute_result",
          "data": {
            "text/plain": [
              "['/historic-hansard/sittings/1802/jul']"
            ]
          },
          "metadata": {},
          "execution_count": 23
        }
      ],
      "source": [
        "l1"
      ]
    },
    {
      "cell_type": "code",
      "execution_count": null,
      "metadata": {
        "id": "nnQqApSHPTfE"
      },
      "outputs": [],
      "source": [
        "'''\n",
        "This cell extracts every single date in every single year\n",
        "'''\n",
        "#for n in range(1900,2000):\n",
        "Dates=[]\n",
        "#datesInMonth(l1965)\n",
        "for n in range(1,97):\n",
        "  print(n)\n",
        "  list1=locals()['l'+str(n)]\n",
        "  datesInMonth(list1)"
      ]
    },
    {
      "cell_type": "code",
      "execution_count": null,
      "metadata": {
        "id": "sgdfqMwQV0Sv"
      },
      "outputs": [],
      "source": [
        "'''\n",
        "This cell extracts the only needed dates in the list as a lot of dates are repeating.\n",
        "'''\n",
        "DatesFinal=[]\n",
        "for l in Dates:\n",
        "  temp=l\n",
        "  l=l[:-3]\n",
        "  if(Dates.index(temp)==0):\n",
        "    l=l[(len(l)//2):]\n",
        "  else:\n",
        "    l=l[:(len(l)//2)]\n",
        "  DatesFinal.append(l)\n",
        "  print(l)\n",
        "  "
      ]
    },
    {
      "cell_type": "code",
      "execution_count": null,
      "metadata": {
        "id": "hP9R4fw9Vg5G"
      },
      "outputs": [],
      "source": [
        "DatesFinal[:3]"
      ]
    },
    {
      "cell_type": "code",
      "source": [
        "MegaList=[]"
      ],
      "metadata": {
        "id": "XIUPZABOjG0x"
      },
      "execution_count": null,
      "outputs": []
    },
    {
      "cell_type": "code",
      "execution_count": null,
      "metadata": {
        "id": "8Gy4dEorfO7p"
      },
      "outputs": [],
      "source": [
        "extractSittingsLinks(DatesFinal)"
      ]
    },
    {
      "cell_type": "code",
      "execution_count": null,
      "metadata": {
        "id": "BFBA2wjm1Ado"
      },
      "outputs": [],
      "source": [
        "MegaList"
      ]
    },
    {
      "cell_type": "code",
      "execution_count": null,
      "metadata": {
        "id": "Q1u3F9lDeZ7k"
      },
      "outputs": [],
      "source": [
        "cleanLinksList(MegaList)"
      ]
    },
    {
      "cell_type": "code",
      "source": [
        "len(a)"
      ],
      "metadata": {
        "colab": {
          "base_uri": "https://localhost:8080/"
        },
        "id": "gomT50oEQ4j7",
        "outputId": "9858e05e-6f3a-4502-f47d-d2fb863d323c"
      },
      "execution_count": null,
      "outputs": [
        {
          "output_type": "execute_result",
          "data": {
            "text/plain": [
              "186827"
            ]
          },
          "metadata": {},
          "execution_count": 45
        }
      ]
    },
    {
      "cell_type": "code",
      "source": [
        "a[186826]"
      ],
      "metadata": {
        "id": "RlQtsamrRWno",
        "outputId": "ecf4233e-4d65-401b-87d9-be926c719b71",
        "colab": {
          "base_uri": "https://localhost:8080/",
          "height": 58
        }
      },
      "execution_count": null,
      "outputs": [
        {
          "output_type": "execute_result",
          "data": {
            "text/plain": [
              "'/historic-hansard/commons/1899/oct/27/royal-assent'"
            ],
            "application/vnd.google.colaboratory.intrinsic+json": {
              "type": "string"
            }
          },
          "metadata": {},
          "execution_count": 47
        }
      ]
    },
    {
      "cell_type": "code",
      "execution_count": null,
      "metadata": {
        "id": "xuxTi2mKeaQ1"
      },
      "outputs": [],
      "source": [
        "writeLinksToCSV(a)"
      ]
    },
    {
      "cell_type": "code",
      "execution_count": null,
      "metadata": {
        "id": "9l2AU72KeabW"
      },
      "outputs": [],
      "source": [
        "MegaList"
      ]
    }
  ],
  "metadata": {
    "accelerator": "GPU",
    "colab": {
      "provenance": [],
      "authorship_tag": "ABX9TyOGwY1h0wzGTyYfcu94hfoP",
      "include_colab_link": true
    },
    "gpuClass": "standard",
    "kernelspec": {
      "display_name": "Python 3",
      "name": "python3"
    },
    "language_info": {
      "name": "python"
    }
  },
  "nbformat": 4,
  "nbformat_minor": 0
}